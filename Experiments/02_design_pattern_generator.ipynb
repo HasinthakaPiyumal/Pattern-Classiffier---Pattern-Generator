{
 "cells": [
  {
   "cell_type": "code",
   "execution_count": 46,
   "id": "c153d113",
   "metadata": {},
   "outputs": [],
   "source": [
    "from langchain.chat_models import init_chat_model\n",
    "from langchain.prompts import PromptTemplate\n",
    "import json,os\n",
    "\n",
    "llm = init_chat_model(\"gemini-2.5-flash\",model_provider=\"google_genai\")"
   ]
  },
  {
   "cell_type": "code",
   "execution_count": null,
   "id": "09155d9e",
   "metadata": {},
   "outputs": [],
   "source": [
    "msg = \"\"\"\n",
    "Generate {count} Python programs that implement the {pattern} Design Pattern.\n",
    "Output must follow these rules:\n",
    "Add realword usages of the pattern.\n",
    "Add also some simulation pattern\n",
    "The result must be a **JSON Array of exactly {count} strings**.\n",
    "Each string must contain a **complete, standalone Python program**.\n",
    "No explanations, no comments, no markdown formatting, no citations, no extra text.\n",
    "\"\"\"\n",
    "msg = PromptTemplate(\n",
    "    template=msg,\n",
    "    input_variables=[\"pattern\",\"count\"]\n",
    ")"
   ]
  },
  {
   "cell_type": "code",
   "execution_count": null,
   "id": "1533d12f",
   "metadata": {},
   "outputs": [],
   "source": [
    "chain = msg | llm"
   ]
  },
  {
   "cell_type": "code",
   "execution_count": 54,
   "id": "33d4847e",
   "metadata": {},
   "outputs": [],
   "source": [
    "def generate_code(pattern: str, count: int):\n",
    "    return chain.invoke({\"pattern\": pattern, \"count\": count})\n",
    "\n",
    "def save_code(output, pattern: str, base_path: str):\n",
    "    json_output = json.loads(output.content)\n",
    "    for i, code in enumerate(json_output):\n",
    "        os.makedirs(f\"{base_path}/{pattern}\", exist_ok=True)\n",
    "        with open(f\"{base_path}/{pattern}/{pattern}_pattern_{10+i+1}.py\", \"w\") as file:\n",
    "            file.write(code)"
   ]
  },
  {
   "cell_type": "code",
   "execution_count": 55,
   "id": "9459e1c7",
   "metadata": {},
   "outputs": [],
   "source": [
    "def software_design_patterns():\n",
    "    patterns = [\"Singleton\", \"Factory\", \"Observer\", \"Decorator\", \"Strategy\"]\n",
    "    base_path = \"/home/hasinthaka/Documents/Projects/AI/AI Pattern Mining/Pattern Validator/reposistories/test\"\n",
    "    for pattern in patterns:\n",
    "        output = generate_code(pattern, 10)\n",
    "        save_code(output, pattern, base_path)"
   ]
  },
  {
   "cell_type": "code",
   "execution_count": 56,
   "id": "50715e01",
   "metadata": {},
   "outputs": [],
   "source": [
    "software_design_patterns()"
   ]
  },
  {
   "cell_type": "code",
   "execution_count": 44,
   "id": "c273d144",
   "metadata": {},
   "outputs": [],
   "source": [
    "json_output = json.loads(output.content)"
   ]
  },
  {
   "cell_type": "code",
   "execution_count": 45,
   "id": "1f8bf6eb",
   "metadata": {},
   "outputs": [
    {
     "data": {
      "text/plain": [
       "['class Singleton:\\n    _instance = None\\n    def __new__(cls):\\n        if cls._instance is None:\\n            cls._instance = super().__new__(cls)\\n        return cls._instance\\n\\nif __name__ == \\'__main__\\':\\n    s1 = Singleton()\\n    s2 = Singleton()\\n    print(f\"s1 is s2: {s1 is s2}\")\\n    print(f\"ID of s1: {id(s1)}\")\\n    print(f\"ID of s2: {id(s2)}\")',\n",
       " 'def singleton(cls):\\n    instances = {}\\n    def get_instance(*args, **kwargs):\\n        if cls not in instances:\\n            instances[cls] = cls(*args, **kwargs)\\n        return instances[cls]\\n    return get_instance\\n\\n@singleton\\nclass MyService:\\n    def __init__(self, name):\\n        self.name = name\\n        print(f\"Initializing MyService with name: {self.name}\")\\n\\nif __name__ == \\'__main__\\':\\n    service1 = MyService(\"ServiceA\")\\n    service2 = MyService(\"ServiceB\")\\n    print(f\"service1 is service2: {service1 is service2}\")\\n    print(f\"Name of service1: {service1.name}\")\\n    print(f\"Name of service2: {service2.name}\")',\n",
       " 'class SingletonMeta(type):\\n    _instances = {}\\n    def __call__(cls, *args, **kwargs):\\n        if cls not in cls._instances:\\n            cls._instances[cls] = super().__call__(cls, *args, **kwargs)\\n        return cls._instances[cls]\\n\\nclass AppConfig(metaclass=SingletonMeta):\\n    def __init__(self, config_path):\\n        self.config_path = config_path\\n        self.settings = self._load_config(config_path)\\n        print(f\"Loading config from: {self.config_path}\")\\n\\n    def _load_config(self, path):\\n        return {\"source\": path, \"version\": \"1.0\"}\\n\\nif __name__ == \\'__main__\\':\\n    config1 = AppConfig(\"prod.json\")\\n    config2 = AppConfig(\"dev.json\")\\n    print(f\"config1 is config2: {config1 is config2}\")\\n    print(f\"Config1 settings: {config1.settings}\")\\n    print(f\"Config2 settings: {config2.settings}\")']"
      ]
     },
     "execution_count": 45,
     "metadata": {},
     "output_type": "execute_result"
    }
   ],
   "source": [
    "json_output"
   ]
  },
  {
   "cell_type": "code",
   "execution_count": null,
   "id": "8468cde5",
   "metadata": {},
   "outputs": [],
   "source": []
  }
 ],
 "metadata": {
  "kernelspec": {
   "display_name": ".venv",
   "language": "python",
   "name": "python3"
  },
  "language_info": {
   "codemirror_mode": {
    "name": "ipython",
    "version": 3
   },
   "file_extension": ".py",
   "mimetype": "text/x-python",
   "name": "python",
   "nbconvert_exporter": "python",
   "pygments_lexer": "ipython3",
   "version": "3.12.3"
  }
 },
 "nbformat": 4,
 "nbformat_minor": 5
}
