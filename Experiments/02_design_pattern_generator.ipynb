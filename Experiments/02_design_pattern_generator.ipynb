{
 "cells": [
  {
   "cell_type": "code",
   "execution_count": 1,
   "id": "c153d113",
   "metadata": {},
   "outputs": [],
   "source": [
    "from langchain.chat_models import init_chat_model\n",
    "from langchain.prompts import PromptTemplate\n",
    "import json,os\n",
    "\n",
    "llm = init_chat_model(\"gemini-2.5-flash\",model_provider=\"google_genai\")"
   ]
  },
  {
   "cell_type": "code",
   "execution_count": 2,
   "id": "09155d9e",
   "metadata": {},
   "outputs": [],
   "source": [
    "msg = \"\"\"\n",
    "Generate {count} Python programs that implement the {pattern} Design Pattern.\n",
    "Output must follow these rules:\n",
    "Add realword usages of the pattern.\n",
    "Add also some simulation pattern\n",
    "The result must be a **JSON Array of exactly {count} strings**.\n",
    "Each string must contain a **complete, standalone Python program**.\n",
    "No explanations, no comments, no markdown formatting, no citations, no extra text.\n",
    "Create patterns that are not trivial.\n",
    "Each program must be different from the others. Make sure patterns are represents different systems like banking, healthcare, education, e-commerce, etc.\n",
    "\"\"\"\n",
    "msg = PromptTemplate(\n",
    "    template=msg,\n",
    "    input_variables=[\"pattern\",\"count\"]\n",
    ")"
   ]
  },
  {
   "cell_type": "code",
   "execution_count": 3,
   "id": "1533d12f",
   "metadata": {},
   "outputs": [],
   "source": [
    "chain = msg | llm"
   ]
  },
  {
   "cell_type": "code",
   "execution_count": 5,
   "id": "33d4847e",
   "metadata": {},
   "outputs": [],
   "source": [
    "def generate_code(pattern: str, count: int):\n",
    "    return chain.invoke({\"pattern\": pattern, \"count\": count})\n",
    "\n",
    "def save_code(output, pattern: str, base_path: str):\n",
    "    json_output = json.loads(output.content)\n",
    "    for i, code in enumerate(json_output):\n",
    "        os.makedirs(f\"{base_path}/{pattern}\", exist_ok=True)\n",
    "        with open(f\"{base_path}/{pattern}/{pattern}_pattern_{20+i+1}.py\", \"w\") as file:\n",
    "            file.write(code)"
   ]
  },
  {
   "cell_type": "code",
   "execution_count": 6,
   "id": "9459e1c7",
   "metadata": {},
   "outputs": [],
   "source": [
    "def software_design_patterns():\n",
    "    patterns = [\"Singleton\", \"Factory\", \"Observer\", \"Decorator\", \"Strategy\"]\n",
    "    base_path = \"/home/hasinthaka/Documents/Projects/AI/AI Pattern Mining/Pattern Validator/reposistories/test\"\n",
    "    for pattern in patterns:\n",
    "        output = generate_code(pattern, 20)\n",
    "        save_code(output, pattern, base_path)"
   ]
  },
  {
   "cell_type": "code",
   "execution_count": 7,
   "id": "50715e01",
   "metadata": {},
   "outputs": [
    {
     "ename": "JSONDecodeError",
     "evalue": "Expecting value: line 1 column 1 (char 0)",
     "output_type": "error",
     "traceback": [
      "\u001b[31m---------------------------------------------------------------------------\u001b[39m",
      "\u001b[31mJSONDecodeError\u001b[39m                           Traceback (most recent call last)",
      "\u001b[36mCell\u001b[39m\u001b[36m \u001b[39m\u001b[32mIn[7]\u001b[39m\u001b[32m, line 1\u001b[39m\n\u001b[32m----> \u001b[39m\u001b[32m1\u001b[39m \u001b[43msoftware_design_patterns\u001b[49m\u001b[43m(\u001b[49m\u001b[43m)\u001b[49m\n",
      "\u001b[36mCell\u001b[39m\u001b[36m \u001b[39m\u001b[32mIn[6]\u001b[39m\u001b[32m, line 6\u001b[39m, in \u001b[36msoftware_design_patterns\u001b[39m\u001b[34m()\u001b[39m\n\u001b[32m      4\u001b[39m \u001b[38;5;28;01mfor\u001b[39;00m pattern \u001b[38;5;129;01min\u001b[39;00m patterns:\n\u001b[32m      5\u001b[39m     output = generate_code(pattern, \u001b[32m20\u001b[39m)\n\u001b[32m----> \u001b[39m\u001b[32m6\u001b[39m     \u001b[43msave_code\u001b[49m\u001b[43m(\u001b[49m\u001b[43moutput\u001b[49m\u001b[43m,\u001b[49m\u001b[43m \u001b[49m\u001b[43mpattern\u001b[49m\u001b[43m,\u001b[49m\u001b[43m \u001b[49m\u001b[43mbase_path\u001b[49m\u001b[43m)\u001b[49m\n",
      "\u001b[36mCell\u001b[39m\u001b[36m \u001b[39m\u001b[32mIn[5]\u001b[39m\u001b[32m, line 5\u001b[39m, in \u001b[36msave_code\u001b[39m\u001b[34m(output, pattern, base_path)\u001b[39m\n\u001b[32m      4\u001b[39m \u001b[38;5;28;01mdef\u001b[39;00m\u001b[38;5;250m \u001b[39m\u001b[34msave_code\u001b[39m(output, pattern: \u001b[38;5;28mstr\u001b[39m, base_path: \u001b[38;5;28mstr\u001b[39m):\n\u001b[32m----> \u001b[39m\u001b[32m5\u001b[39m     json_output = \u001b[43mjson\u001b[49m\u001b[43m.\u001b[49m\u001b[43mloads\u001b[49m\u001b[43m(\u001b[49m\u001b[43moutput\u001b[49m\u001b[43m.\u001b[49m\u001b[43mcontent\u001b[49m\u001b[43m)\u001b[49m\n\u001b[32m      6\u001b[39m     \u001b[38;5;28;01mfor\u001b[39;00m i, code \u001b[38;5;129;01min\u001b[39;00m \u001b[38;5;28menumerate\u001b[39m(json_output):\n\u001b[32m      7\u001b[39m         os.makedirs(\u001b[33mf\u001b[39m\u001b[33m\"\u001b[39m\u001b[38;5;132;01m{\u001b[39;00mbase_path\u001b[38;5;132;01m}\u001b[39;00m\u001b[33m/\u001b[39m\u001b[38;5;132;01m{\u001b[39;00mpattern\u001b[38;5;132;01m}\u001b[39;00m\u001b[33m\"\u001b[39m, exist_ok=\u001b[38;5;28;01mTrue\u001b[39;00m)\n",
      "\u001b[36mFile \u001b[39m\u001b[32m/usr/lib/python3.12/json/__init__.py:346\u001b[39m, in \u001b[36mloads\u001b[39m\u001b[34m(s, cls, object_hook, parse_float, parse_int, parse_constant, object_pairs_hook, **kw)\u001b[39m\n\u001b[32m    341\u001b[39m     s = s.decode(detect_encoding(s), \u001b[33m'\u001b[39m\u001b[33msurrogatepass\u001b[39m\u001b[33m'\u001b[39m)\n\u001b[32m    343\u001b[39m \u001b[38;5;28;01mif\u001b[39;00m (\u001b[38;5;28mcls\u001b[39m \u001b[38;5;129;01mis\u001b[39;00m \u001b[38;5;28;01mNone\u001b[39;00m \u001b[38;5;129;01mand\u001b[39;00m object_hook \u001b[38;5;129;01mis\u001b[39;00m \u001b[38;5;28;01mNone\u001b[39;00m \u001b[38;5;129;01mand\u001b[39;00m\n\u001b[32m    344\u001b[39m         parse_int \u001b[38;5;129;01mis\u001b[39;00m \u001b[38;5;28;01mNone\u001b[39;00m \u001b[38;5;129;01mand\u001b[39;00m parse_float \u001b[38;5;129;01mis\u001b[39;00m \u001b[38;5;28;01mNone\u001b[39;00m \u001b[38;5;129;01mand\u001b[39;00m\n\u001b[32m    345\u001b[39m         parse_constant \u001b[38;5;129;01mis\u001b[39;00m \u001b[38;5;28;01mNone\u001b[39;00m \u001b[38;5;129;01mand\u001b[39;00m object_pairs_hook \u001b[38;5;129;01mis\u001b[39;00m \u001b[38;5;28;01mNone\u001b[39;00m \u001b[38;5;129;01mand\u001b[39;00m \u001b[38;5;129;01mnot\u001b[39;00m kw):\n\u001b[32m--> \u001b[39m\u001b[32m346\u001b[39m     \u001b[38;5;28;01mreturn\u001b[39;00m \u001b[43m_default_decoder\u001b[49m\u001b[43m.\u001b[49m\u001b[43mdecode\u001b[49m\u001b[43m(\u001b[49m\u001b[43ms\u001b[49m\u001b[43m)\u001b[49m\n\u001b[32m    347\u001b[39m \u001b[38;5;28;01mif\u001b[39;00m \u001b[38;5;28mcls\u001b[39m \u001b[38;5;129;01mis\u001b[39;00m \u001b[38;5;28;01mNone\u001b[39;00m:\n\u001b[32m    348\u001b[39m     \u001b[38;5;28mcls\u001b[39m = JSONDecoder\n",
      "\u001b[36mFile \u001b[39m\u001b[32m/usr/lib/python3.12/json/decoder.py:337\u001b[39m, in \u001b[36mJSONDecoder.decode\u001b[39m\u001b[34m(self, s, _w)\u001b[39m\n\u001b[32m    332\u001b[39m \u001b[38;5;28;01mdef\u001b[39;00m\u001b[38;5;250m \u001b[39m\u001b[34mdecode\u001b[39m(\u001b[38;5;28mself\u001b[39m, s, _w=WHITESPACE.match):\n\u001b[32m    333\u001b[39m \u001b[38;5;250m    \u001b[39m\u001b[33;03m\"\"\"Return the Python representation of ``s`` (a ``str`` instance\u001b[39;00m\n\u001b[32m    334\u001b[39m \u001b[33;03m    containing a JSON document).\u001b[39;00m\n\u001b[32m    335\u001b[39m \n\u001b[32m    336\u001b[39m \u001b[33;03m    \"\"\"\u001b[39;00m\n\u001b[32m--> \u001b[39m\u001b[32m337\u001b[39m     obj, end = \u001b[38;5;28;43mself\u001b[39;49m\u001b[43m.\u001b[49m\u001b[43mraw_decode\u001b[49m\u001b[43m(\u001b[49m\u001b[43ms\u001b[49m\u001b[43m,\u001b[49m\u001b[43m \u001b[49m\u001b[43midx\u001b[49m\u001b[43m=\u001b[49m\u001b[43m_w\u001b[49m\u001b[43m(\u001b[49m\u001b[43ms\u001b[49m\u001b[43m,\u001b[49m\u001b[43m \u001b[49m\u001b[32;43m0\u001b[39;49m\u001b[43m)\u001b[49m\u001b[43m.\u001b[49m\u001b[43mend\u001b[49m\u001b[43m(\u001b[49m\u001b[43m)\u001b[49m\u001b[43m)\u001b[49m\n\u001b[32m    338\u001b[39m     end = _w(s, end).end()\n\u001b[32m    339\u001b[39m     \u001b[38;5;28;01mif\u001b[39;00m end != \u001b[38;5;28mlen\u001b[39m(s):\n",
      "\u001b[36mFile \u001b[39m\u001b[32m/usr/lib/python3.12/json/decoder.py:355\u001b[39m, in \u001b[36mJSONDecoder.raw_decode\u001b[39m\u001b[34m(self, s, idx)\u001b[39m\n\u001b[32m    353\u001b[39m     obj, end = \u001b[38;5;28mself\u001b[39m.scan_once(s, idx)\n\u001b[32m    354\u001b[39m \u001b[38;5;28;01mexcept\u001b[39;00m \u001b[38;5;167;01mStopIteration\u001b[39;00m \u001b[38;5;28;01mas\u001b[39;00m err:\n\u001b[32m--> \u001b[39m\u001b[32m355\u001b[39m     \u001b[38;5;28;01mraise\u001b[39;00m JSONDecodeError(\u001b[33m\"\u001b[39m\u001b[33mExpecting value\u001b[39m\u001b[33m\"\u001b[39m, s, err.value) \u001b[38;5;28;01mfrom\u001b[39;00m\u001b[38;5;250m \u001b[39m\u001b[38;5;28;01mNone\u001b[39;00m\n\u001b[32m    356\u001b[39m \u001b[38;5;28;01mreturn\u001b[39;00m obj, end\n",
      "\u001b[31mJSONDecodeError\u001b[39m: Expecting value: line 1 column 1 (char 0)"
     ]
    }
   ],
   "source": [
    "software_design_patterns()"
   ]
  },
  {
   "cell_type": "code",
   "execution_count": 44,
   "id": "c273d144",
   "metadata": {},
   "outputs": [],
   "source": [
    "json_output = json.loads(output.content)"
   ]
  },
  {
   "cell_type": "code",
   "execution_count": 45,
   "id": "1f8bf6eb",
   "metadata": {},
   "outputs": [
    {
     "data": {
      "text/plain": [
       "['class Singleton:\\n    _instance = None\\n    def __new__(cls):\\n        if cls._instance is None:\\n            cls._instance = super().__new__(cls)\\n        return cls._instance\\n\\nif __name__ == \\'__main__\\':\\n    s1 = Singleton()\\n    s2 = Singleton()\\n    print(f\"s1 is s2: {s1 is s2}\")\\n    print(f\"ID of s1: {id(s1)}\")\\n    print(f\"ID of s2: {id(s2)}\")',\n",
       " 'def singleton(cls):\\n    instances = {}\\n    def get_instance(*args, **kwargs):\\n        if cls not in instances:\\n            instances[cls] = cls(*args, **kwargs)\\n        return instances[cls]\\n    return get_instance\\n\\n@singleton\\nclass MyService:\\n    def __init__(self, name):\\n        self.name = name\\n        print(f\"Initializing MyService with name: {self.name}\")\\n\\nif __name__ == \\'__main__\\':\\n    service1 = MyService(\"ServiceA\")\\n    service2 = MyService(\"ServiceB\")\\n    print(f\"service1 is service2: {service1 is service2}\")\\n    print(f\"Name of service1: {service1.name}\")\\n    print(f\"Name of service2: {service2.name}\")',\n",
       " 'class SingletonMeta(type):\\n    _instances = {}\\n    def __call__(cls, *args, **kwargs):\\n        if cls not in cls._instances:\\n            cls._instances[cls] = super().__call__(cls, *args, **kwargs)\\n        return cls._instances[cls]\\n\\nclass AppConfig(metaclass=SingletonMeta):\\n    def __init__(self, config_path):\\n        self.config_path = config_path\\n        self.settings = self._load_config(config_path)\\n        print(f\"Loading config from: {self.config_path}\")\\n\\n    def _load_config(self, path):\\n        return {\"source\": path, \"version\": \"1.0\"}\\n\\nif __name__ == \\'__main__\\':\\n    config1 = AppConfig(\"prod.json\")\\n    config2 = AppConfig(\"dev.json\")\\n    print(f\"config1 is config2: {config1 is config2}\")\\n    print(f\"Config1 settings: {config1.settings}\")\\n    print(f\"Config2 settings: {config2.settings}\")']"
      ]
     },
     "execution_count": 45,
     "metadata": {},
     "output_type": "execute_result"
    }
   ],
   "source": [
    "json_output"
   ]
  },
  {
   "cell_type": "code",
   "execution_count": null,
   "id": "8468cde5",
   "metadata": {},
   "outputs": [],
   "source": []
  }
 ],
 "metadata": {
  "kernelspec": {
   "display_name": ".venv",
   "language": "python",
   "name": "python3"
  },
  "language_info": {
   "codemirror_mode": {
    "name": "ipython",
    "version": 3
   },
   "file_extension": ".py",
   "mimetype": "text/x-python",
   "name": "python",
   "nbconvert_exporter": "python",
   "pygments_lexer": "ipython3",
   "version": "3.12.3"
  }
 },
 "nbformat": 4,
 "nbformat_minor": 5
}
