{
 "cells": [
  {
   "cell_type": "code",
   "execution_count": 29,
   "id": "dfae8746",
   "metadata": {},
   "outputs": [],
   "source": [
    "import pandas as pd\n",
    "from sklearn.model_selection import train_test_split\n",
    "from sklearn.preprocessing import LabelEncoder, StandardScaler\n",
    "from sklearn.neighbors import KNeighborsClassifier\n",
    "from sklearn.metrics import f1_score\n",
    "from sklearn.ensemble import RandomForestClassifier\n",
    "from sklearn.svm import SVC"
   ]
  },
  {
   "cell_type": "code",
   "execution_count": 18,
   "id": "1bb3245c",
   "metadata": {},
   "outputs": [],
   "source": [
    "# data = pd.read_csv(\"/home/hasinthaka/Documents/Projects/AI/AI Pattern Mining/Pattern Validator/reposistories/test/embeddings/embeddings_pooler_output_mean.csv\")\n",
    "data = pd.read_csv(\"/home/hasinthaka/Documents/Projects/AI/AI Pattern Mining/Pattern Validator/reposistories/test/embeddings/embeddings_last_hidden_state_mean.csv\")"
   ]
  },
  {
   "cell_type": "code",
   "execution_count": 19,
   "id": "05729e99",
   "metadata": {},
   "outputs": [
    {
     "data": {
      "text/html": [
       "<div>\n",
       "<style scoped>\n",
       "    .dataframe tbody tr th:only-of-type {\n",
       "        vertical-align: middle;\n",
       "    }\n",
       "\n",
       "    .dataframe tbody tr th {\n",
       "        vertical-align: top;\n",
       "    }\n",
       "\n",
       "    .dataframe thead th {\n",
       "        text-align: right;\n",
       "    }\n",
       "</style>\n",
       "<table border=\"1\" class=\"dataframe\">\n",
       "  <thead>\n",
       "    <tr style=\"text-align: right;\">\n",
       "      <th></th>\n",
       "      <th>pattern</th>\n",
       "      <th>dim_0</th>\n",
       "      <th>dim_1</th>\n",
       "      <th>dim_2</th>\n",
       "      <th>dim_3</th>\n",
       "      <th>dim_4</th>\n",
       "      <th>dim_5</th>\n",
       "      <th>dim_6</th>\n",
       "      <th>dim_7</th>\n",
       "      <th>dim_8</th>\n",
       "      <th>...</th>\n",
       "      <th>dim_758</th>\n",
       "      <th>dim_759</th>\n",
       "      <th>dim_760</th>\n",
       "      <th>dim_761</th>\n",
       "      <th>dim_762</th>\n",
       "      <th>dim_763</th>\n",
       "      <th>dim_764</th>\n",
       "      <th>dim_765</th>\n",
       "      <th>dim_766</th>\n",
       "      <th>dim_767</th>\n",
       "    </tr>\n",
       "  </thead>\n",
       "  <tbody>\n",
       "    <tr>\n",
       "      <th>0</th>\n",
       "      <td>Strategy</td>\n",
       "      <td>-0.424196</td>\n",
       "      <td>0.153008</td>\n",
       "      <td>0.289494</td>\n",
       "      <td>-0.010375</td>\n",
       "      <td>-0.327154</td>\n",
       "      <td>-0.489561</td>\n",
       "      <td>-0.068799</td>\n",
       "      <td>0.269859</td>\n",
       "      <td>0.410247</td>\n",
       "      <td>...</td>\n",
       "      <td>0.379125</td>\n",
       "      <td>-0.181060</td>\n",
       "      <td>-0.454582</td>\n",
       "      <td>0.367810</td>\n",
       "      <td>-0.002261</td>\n",
       "      <td>0.300104</td>\n",
       "      <td>0.804165</td>\n",
       "      <td>-0.638365</td>\n",
       "      <td>-0.398811</td>\n",
       "      <td>0.668201</td>\n",
       "    </tr>\n",
       "    <tr>\n",
       "      <th>1</th>\n",
       "      <td>Strategy</td>\n",
       "      <td>-0.396615</td>\n",
       "      <td>0.165781</td>\n",
       "      <td>0.317156</td>\n",
       "      <td>-0.090632</td>\n",
       "      <td>-0.191433</td>\n",
       "      <td>-0.464995</td>\n",
       "      <td>-0.097662</td>\n",
       "      <td>0.271836</td>\n",
       "      <td>0.428162</td>\n",
       "      <td>...</td>\n",
       "      <td>0.447291</td>\n",
       "      <td>-0.170636</td>\n",
       "      <td>-0.547037</td>\n",
       "      <td>0.356649</td>\n",
       "      <td>0.044595</td>\n",
       "      <td>0.285214</td>\n",
       "      <td>0.765839</td>\n",
       "      <td>-0.640299</td>\n",
       "      <td>-0.450409</td>\n",
       "      <td>0.725430</td>\n",
       "    </tr>\n",
       "    <tr>\n",
       "      <th>2</th>\n",
       "      <td>Strategy</td>\n",
       "      <td>-0.333854</td>\n",
       "      <td>0.190779</td>\n",
       "      <td>0.228637</td>\n",
       "      <td>-0.043869</td>\n",
       "      <td>-0.284395</td>\n",
       "      <td>-0.435271</td>\n",
       "      <td>-0.114994</td>\n",
       "      <td>0.188442</td>\n",
       "      <td>0.399938</td>\n",
       "      <td>...</td>\n",
       "      <td>0.443614</td>\n",
       "      <td>-0.218319</td>\n",
       "      <td>-0.470923</td>\n",
       "      <td>0.424341</td>\n",
       "      <td>-0.051111</td>\n",
       "      <td>0.239730</td>\n",
       "      <td>0.655211</td>\n",
       "      <td>-0.356463</td>\n",
       "      <td>-0.462602</td>\n",
       "      <td>0.606448</td>\n",
       "    </tr>\n",
       "    <tr>\n",
       "      <th>3</th>\n",
       "      <td>Strategy</td>\n",
       "      <td>-0.397052</td>\n",
       "      <td>0.209952</td>\n",
       "      <td>0.262061</td>\n",
       "      <td>-0.130149</td>\n",
       "      <td>-0.277323</td>\n",
       "      <td>-0.567315</td>\n",
       "      <td>-0.067175</td>\n",
       "      <td>0.198070</td>\n",
       "      <td>0.470560</td>\n",
       "      <td>...</td>\n",
       "      <td>0.461368</td>\n",
       "      <td>-0.243798</td>\n",
       "      <td>-0.447095</td>\n",
       "      <td>0.310044</td>\n",
       "      <td>0.044970</td>\n",
       "      <td>0.264322</td>\n",
       "      <td>0.652598</td>\n",
       "      <td>-0.459440</td>\n",
       "      <td>-0.460797</td>\n",
       "      <td>0.644166</td>\n",
       "    </tr>\n",
       "    <tr>\n",
       "      <th>4</th>\n",
       "      <td>Strategy</td>\n",
       "      <td>-0.330477</td>\n",
       "      <td>0.124464</td>\n",
       "      <td>0.276631</td>\n",
       "      <td>0.058007</td>\n",
       "      <td>-0.079613</td>\n",
       "      <td>-0.563323</td>\n",
       "      <td>-0.021964</td>\n",
       "      <td>0.275021</td>\n",
       "      <td>0.445293</td>\n",
       "      <td>...</td>\n",
       "      <td>0.436368</td>\n",
       "      <td>-0.208060</td>\n",
       "      <td>-0.531896</td>\n",
       "      <td>0.485646</td>\n",
       "      <td>0.029205</td>\n",
       "      <td>0.236396</td>\n",
       "      <td>0.982008</td>\n",
       "      <td>-0.437662</td>\n",
       "      <td>-0.434461</td>\n",
       "      <td>0.604933</td>\n",
       "    </tr>\n",
       "  </tbody>\n",
       "</table>\n",
       "<p>5 rows × 769 columns</p>\n",
       "</div>"
      ],
      "text/plain": [
       "    pattern     dim_0     dim_1     dim_2     dim_3     dim_4     dim_5  \\\n",
       "0  Strategy -0.424196  0.153008  0.289494 -0.010375 -0.327154 -0.489561   \n",
       "1  Strategy -0.396615  0.165781  0.317156 -0.090632 -0.191433 -0.464995   \n",
       "2  Strategy -0.333854  0.190779  0.228637 -0.043869 -0.284395 -0.435271   \n",
       "3  Strategy -0.397052  0.209952  0.262061 -0.130149 -0.277323 -0.567315   \n",
       "4  Strategy -0.330477  0.124464  0.276631  0.058007 -0.079613 -0.563323   \n",
       "\n",
       "      dim_6     dim_7     dim_8  ...   dim_758   dim_759   dim_760   dim_761  \\\n",
       "0 -0.068799  0.269859  0.410247  ...  0.379125 -0.181060 -0.454582  0.367810   \n",
       "1 -0.097662  0.271836  0.428162  ...  0.447291 -0.170636 -0.547037  0.356649   \n",
       "2 -0.114994  0.188442  0.399938  ...  0.443614 -0.218319 -0.470923  0.424341   \n",
       "3 -0.067175  0.198070  0.470560  ...  0.461368 -0.243798 -0.447095  0.310044   \n",
       "4 -0.021964  0.275021  0.445293  ...  0.436368 -0.208060 -0.531896  0.485646   \n",
       "\n",
       "    dim_762   dim_763   dim_764   dim_765   dim_766   dim_767  \n",
       "0 -0.002261  0.300104  0.804165 -0.638365 -0.398811  0.668201  \n",
       "1  0.044595  0.285214  0.765839 -0.640299 -0.450409  0.725430  \n",
       "2 -0.051111  0.239730  0.655211 -0.356463 -0.462602  0.606448  \n",
       "3  0.044970  0.264322  0.652598 -0.459440 -0.460797  0.644166  \n",
       "4  0.029205  0.236396  0.982008 -0.437662 -0.434461  0.604933  \n",
       "\n",
       "[5 rows x 769 columns]"
      ]
     },
     "execution_count": 19,
     "metadata": {},
     "output_type": "execute_result"
    }
   ],
   "source": [
    "data.head()"
   ]
  },
  {
   "cell_type": "code",
   "execution_count": 62,
   "id": "cf92d118",
   "metadata": {},
   "outputs": [],
   "source": [
    "le = LabelEncoder()\n",
    "labels = le.fit_transform(data['pattern'])"
   ]
  },
  {
   "cell_type": "code",
   "execution_count": 26,
   "id": "e52b5a81",
   "metadata": {},
   "outputs": [],
   "source": [
    "X = data.drop(columns=['pattern'])\n",
    "y = labeled_data\n",
    "X_train, X_test, y_train, y_test = train_test_split(X, y, test_size=0.2, random_state=42)"
   ]
  },
  {
   "cell_type": "code",
   "execution_count": 27,
   "id": "d30418dc",
   "metadata": {},
   "outputs": [
    {
     "name": "stdout",
     "output_type": "stream",
     "text": [
      "F1 Score: 0.892550505050505\n"
     ]
    }
   ],
   "source": [
    "model = KNeighborsClassifier(n_neighbors=5)\n",
    "model.fit(X_train, y_train)\n",
    "y_pred = model.predict(X_test)\n",
    "f1 = f1_score(y_test, y_pred, average='weighted')\n",
    "print(f\"F1 Score: {f1}\")"
   ]
  },
  {
   "cell_type": "code",
   "execution_count": 30,
   "id": "54d5096a",
   "metadata": {},
   "outputs": [
    {
     "name": "stdout",
     "output_type": "stream",
     "text": [
      "F1 Score (Random Forest): 0.7423076923076923\n"
     ]
    }
   ],
   "source": [
    "model2 = RandomForestClassifier(n_estimators=5, random_state=42)\n",
    "model2.fit(X_train, y_train)\n",
    "y_pred2 = model2.predict(X_test)\n",
    "f1_2 = f1_score(y_test, y_pred2, average='weighted')\n",
    "print(f\"F1 Score (Random Forest): {f1_2}\")"
   ]
  },
  {
   "cell_type": "code",
   "execution_count": 31,
   "id": "e9a146e9",
   "metadata": {},
   "outputs": [
    {
     "name": "stdout",
     "output_type": "stream",
     "text": [
      "F1 Score (SVM): 1.0\n"
     ]
    }
   ],
   "source": [
    "model3 = SVC(kernel='linear', random_state=42)\n",
    "model3.fit(X_train, y_train)\n",
    "y_pred3 = model3.predict(X_test)\n",
    "f1_3 = f1_score(y_test, y_pred3, average='weighted')\n",
    "print(f\"F1 Score (SVM): {f1_3}\")"
   ]
  },
  {
   "cell_type": "code",
   "execution_count": null,
   "id": "765f6f0a",
   "metadata": {},
   "outputs": [],
   "source": [
    "import importlib.util\n",
    "import sys\n",
    "import os\n",
    "\n",
    "# Current working directory (where notebook/script is running)\n",
    "current_dir = os.getcwd()\n",
    "\n",
    "# Path to parent folder's utils.py\n",
    "parent_file_path = os.path.abspath(os.path.join(current_dir, '..', 'embedding_generator.py'))\n",
    "\n",
    "spec = importlib.util.spec_from_file_location(\"utils\", parent_file_path)\n",
    "utils = importlib.util.module_from_spec(spec)\n",
    "sys.modules[\"utils\"] = utils\n",
    "spec.loader.exec_module(utils)\n",
    "\n",
    "# Now you can use functions from utils\n",
    "# utils.some_function()\n",
    "\n"
   ]
  },
  {
   "cell_type": "code",
   "execution_count": 54,
   "id": "c47a7fec",
   "metadata": {},
   "outputs": [],
   "source": [
    "emb_generator = utils.EmbeddingGenerator()"
   ]
  },
  {
   "cell_type": "code",
   "execution_count": 53,
   "id": "773b4b64",
   "metadata": {},
   "outputs": [],
   "source": [
    "emb = emb_generator.generate_embedding(\"\"\"\n",
    "class SingletonMeta(type):\n",
    "    _instances = {}\n",
    "\n",
    "    def __call__(cls, *args, **kwargs):\n",
    "        if cls not in cls._instances:\n",
    "            cls._instances[cls] = super(SingletonMeta, cls).__call__(*args, **kwargs)\n",
    "        return cls._instances[cls]\n",
    "\n",
    "\n",
    "class AppSettings(metaclass=SingletonMeta):\n",
    "    def __init__(self):\n",
    "        self.theme = \"Light\"\n",
    "        self.language = \"en\"\n",
    "\n",
    "    def set_theme(self, theme: str):\n",
    "        self.theme = theme\n",
    "\n",
    "    def set_language(self, language: str):\n",
    "        self.language = language\n",
    "\n",
    "    def get_settings(self):\n",
    "        return {\"theme\": self.theme, \"language\": self.language}\n",
    "\n",
    "\n",
    "# Usage\n",
    "settings1 = AppSettings()\n",
    "settings2 = AppSettings()\n",
    "\n",
    "settings1.set_theme(\"Dark\")\n",
    "\n",
    "print(settings2.get_settings())  # {'theme': 'Dark', 'language': 'en'}\n",
    "print(settings1 is settings2)   # True, both are the same instance\n",
    "\"\"\")"
   ]
  },
  {
   "cell_type": "code",
   "execution_count": 59,
   "id": "c3427cf9",
   "metadata": {},
   "outputs": [
    {
     "name": "stderr",
     "output_type": "stream",
     "text": [
      "/home/hasinthaka/Documents/Projects/AI/AI Pattern Mining/Pattern Validator/.venv/lib/python3.12/site-packages/sklearn/utils/validation.py:2749: UserWarning: X does not have valid feature names, but SVC was fitted with feature names\n",
      "  warnings.warn(\n"
     ]
    },
    {
     "data": {
      "text/plain": [
       "array([4])"
      ]
     },
     "execution_count": 59,
     "metadata": {},
     "output_type": "execute_result"
    }
   ],
   "source": [
    "model3.predict([emb['last_hidden_state_mean'].tolist()])"
   ]
  },
  {
   "cell_type": "code",
   "execution_count": 60,
   "id": "4f286028",
   "metadata": {},
   "outputs": [
    {
     "data": {
      "text/plain": [
       "array([4, 4, 4, 4, 4, 4, 4, 4, 4, 4, 4, 4, 4, 4, 4, 4, 4, 4, 4, 4, 2, 2,\n",
       "       2, 2, 2, 2, 2, 2, 2, 2, 2, 2, 2, 2, 2, 2, 2, 2, 2, 2, 3, 3, 3, 3,\n",
       "       3, 3, 3, 3, 3, 3, 3, 3, 3, 3, 3, 3, 3, 3, 3, 3, 1, 1, 1, 1, 1, 1,\n",
       "       1, 1, 1, 1, 1, 1, 1, 1, 1, 1, 1, 1, 1, 1, 0, 0, 0, 0, 0, 0, 0, 0,\n",
       "       0, 0, 0, 0, 0, 0, 0, 0, 0, 0, 0, 0])"
      ]
     },
     "execution_count": 60,
     "metadata": {},
     "output_type": "execute_result"
    }
   ],
   "source": [
    "labeled_data"
   ]
  },
  {
   "cell_type": "code",
   "execution_count": 76,
   "id": "4668d9f8",
   "metadata": {},
   "outputs": [
    {
     "data": {
      "text/plain": [
       "array(['Singleton'], dtype=object)"
      ]
     },
     "execution_count": 76,
     "metadata": {},
     "output_type": "execute_result"
    }
   ],
   "source": [
    "le.inverse_transform([3])"
   ]
  },
  {
   "cell_type": "code",
   "execution_count": 68,
   "id": "7326322e",
   "metadata": {},
   "outputs": [
    {
     "data": {
      "text/plain": [
       "array([4, 4, 4, 4, 4, 4, 4, 4, 4, 4, 4, 4, 4, 4, 4, 4, 4, 4, 4, 4, 2, 2,\n",
       "       2, 2, 2, 2, 2, 2, 2, 2, 2, 2, 2, 2, 2, 2, 2, 2, 2, 2, 3, 3, 3, 3,\n",
       "       3, 3, 3, 3, 3, 3, 3, 3, 3, 3, 3, 3, 3, 3, 3, 3, 1, 1, 1, 1, 1, 1,\n",
       "       1, 1, 1, 1, 1, 1, 1, 1, 1, 1, 1, 1, 1, 1, 0, 0, 0, 0, 0, 0, 0, 0,\n",
       "       0, 0, 0, 0, 0, 0, 0, 0, 0, 0, 0, 0])"
      ]
     },
     "execution_count": 68,
     "metadata": {},
     "output_type": "execute_result"
    }
   ],
   "source": [
    "model3.predict(X)"
   ]
  },
  {
   "cell_type": "code",
   "execution_count": 69,
   "id": "4a23602b",
   "metadata": {},
   "outputs": [],
   "source": [
    "testing_data = pd.read_csv(\"/home/hasinthaka/Documents/Projects/AI/AI Pattern Mining/Pattern Validator/reposistories/model_testing/embeddings/embeddings_last_hidden_state_mean.csv\")"
   ]
  },
  {
   "cell_type": "code",
   "execution_count": 78,
   "id": "278104d3",
   "metadata": {},
   "outputs": [
    {
     "data": {
      "text/plain": [
       "array([4])"
      ]
     },
     "execution_count": 78,
     "metadata": {},
     "output_type": "execute_result"
    }
   ],
   "source": [
    "testingX = testing_data.drop(columns=['pattern'])\n",
    "model3.predict(testingX)"
   ]
  },
  {
   "cell_type": "code",
   "execution_count": null,
   "id": "de1c0fc2",
   "metadata": {},
   "outputs": [],
   "source": []
  }
 ],
 "metadata": {
  "kernelspec": {
   "display_name": ".venv",
   "language": "python",
   "name": "python3"
  },
  "language_info": {
   "codemirror_mode": {
    "name": "ipython",
    "version": 3
   },
   "file_extension": ".py",
   "mimetype": "text/x-python",
   "name": "python",
   "nbconvert_exporter": "python",
   "pygments_lexer": "ipython3",
   "version": "3.12.3"
  }
 },
 "nbformat": 4,
 "nbformat_minor": 5
}
