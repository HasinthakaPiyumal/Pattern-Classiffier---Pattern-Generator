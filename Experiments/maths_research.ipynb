{
 "cells": [
  {
   "cell_type": "code",
   "execution_count": 8,
   "id": "ce37c977",
   "metadata": {},
   "outputs": [],
   "source": [
    "import torch\n",
    "\n",
    "token_embeddings = torch.tensor([\n",
    "    [1.0, 2.0, 3.0],   # token 1\n",
    "    [4.0, 5.0, 6.0],   # token 2\n",
    "    [7.0, 8.0, 9.0],   # token 3\n",
    "    [10.0, 11.0, 12.0] # token 4\n",
    "])\n",
    "attention_mask = torch.tensor([1, 1, 0, 0])  "
   ]
  },
  {
   "cell_type": "code",
   "execution_count": 9,
   "id": "e97ab966",
   "metadata": {},
   "outputs": [
    {
     "data": {
      "text/plain": [
       "torch.Size([4, 3])"
      ]
     },
     "execution_count": 9,
     "metadata": {},
     "output_type": "execute_result"
    }
   ],
   "source": [
    "token_embeddings.size()"
   ]
  },
  {
   "cell_type": "code",
   "execution_count": 20,
   "id": "13cdd219",
   "metadata": {},
   "outputs": [],
   "source": [
    "explanded_attention_mask = attention_mask.unsqueeze(-1).expand(token_embeddings.size()).float()"
   ]
  },
  {
   "cell_type": "code",
   "execution_count": 22,
   "id": "b5e69a0d",
   "metadata": {},
   "outputs": [],
   "source": [
    "masked_embeddings = token_embeddings * explanded_attention_mask"
   ]
  },
  {
   "cell_type": "code",
   "execution_count": 23,
   "id": "4b0c60e8",
   "metadata": {},
   "outputs": [
    {
     "data": {
      "text/plain": [
       "tensor([[1., 2., 3.],\n",
       "        [4., 5., 6.],\n",
       "        [0., 0., 0.],\n",
       "        [0., 0., 0.]])"
      ]
     },
     "execution_count": 23,
     "metadata": {},
     "output_type": "execute_result"
    }
   ],
   "source": [
    "masked_embeddings"
   ]
  },
  {
   "cell_type": "code",
   "execution_count": 30,
   "id": "dedbc27c",
   "metadata": {},
   "outputs": [],
   "source": [
    "sum_embeddings = torch.sum(masked_embeddings,1)"
   ]
  },
  {
   "cell_type": "code",
   "execution_count": 31,
   "id": "0329d673",
   "metadata": {},
   "outputs": [
    {
     "data": {
      "text/plain": [
       "tensor([3., 3., 0., 0.])"
      ]
     },
     "execution_count": 31,
     "metadata": {},
     "output_type": "execute_result"
    }
   ],
   "source": [
    "explanded_attention_mask.sum(1)"
   ]
  },
  {
   "cell_type": "code",
   "execution_count": 33,
   "id": "3cd3b465",
   "metadata": {},
   "outputs": [],
   "source": [
    "sum_mask = torch.clamp(explanded_attention_mask.sum(1), min=1e-9)"
   ]
  },
  {
   "cell_type": "code",
   "execution_count": 34,
   "id": "30454a17",
   "metadata": {},
   "outputs": [
    {
     "data": {
      "text/plain": [
       "tensor([2., 5., 0., 0.])"
      ]
     },
     "execution_count": 34,
     "metadata": {},
     "output_type": "execute_result"
    }
   ],
   "source": [
    "sum_embeddings / sum_mask"
   ]
  },
  {
   "cell_type": "code",
   "execution_count": 35,
   "id": "7c1732f6",
   "metadata": {},
   "outputs": [
    {
     "data": {
      "text/plain": [
       "tensor([2., 5., 0., 0.])"
      ]
     },
     "execution_count": 35,
     "metadata": {},
     "output_type": "execute_result"
    }
   ],
   "source": [
    "\n",
    "sentence_embedding = sum_embeddings / sum_mask\n",
    "sentence_embedding.squeeze()"
   ]
  },
  {
   "cell_type": "code",
   "execution_count": null,
   "id": "e9262c3b",
   "metadata": {},
   "outputs": [],
   "source": []
  }
 ],
 "metadata": {
  "kernelspec": {
   "display_name": ".venv",
   "language": "python",
   "name": "python3"
  },
  "language_info": {
   "codemirror_mode": {
    "name": "ipython",
    "version": 3
   },
   "file_extension": ".py",
   "mimetype": "text/x-python",
   "name": "python",
   "nbconvert_exporter": "python",
   "pygments_lexer": "ipython3",
   "version": "3.12.3"
  }
 },
 "nbformat": 4,
 "nbformat_minor": 5
}
