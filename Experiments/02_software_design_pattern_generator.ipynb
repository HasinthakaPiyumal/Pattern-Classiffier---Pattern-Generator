{
 "cells": [
  {
   "cell_type": "code",
   "execution_count": 10,
   "id": "c153d113",
   "metadata": {},
   "outputs": [],
   "source": [
    "from langchain.chat_models import init_chat_model\n",
    "from langchain.prompts import PromptTemplate\n",
    "import json,os\n",
    "import threading\n",
    "\n",
    "llm = init_chat_model(\"gemini-2.5-flash\",model_provider=\"google_genai\")"
   ]
  },
  {
   "cell_type": "code",
   "execution_count": 13,
   "id": "09155d9e",
   "metadata": {},
   "outputs": [],
   "source": [
    "msg = \"\"\"\n",
    "Generate {count} Python programs that implement the {pattern} Design Pattern.\n",
    "Output must follow these rules:\n",
    "Add realword usages of the pattern.\n",
    "Add also some simulation pattern\n",
    "The result must be a **JSON Array of exactly {count} strings**.\n",
    "Each string must contain a **complete, standalone Python program**.\n",
    "No explanations, no comments, no markdown formatting, no citations, no extra text.\n",
    "Each program must be different from the others. Make sure patterns are represents different systems like banking, healthcare, education, e-commerce, etc.\n",
    "\"\"\"\n",
    "msg = PromptTemplate(\n",
    "    template=msg,\n",
    "    input_variables=[\"pattern\",\"count\"]\n",
    ")"
   ]
  },
  {
   "cell_type": "code",
   "execution_count": 14,
   "id": "1533d12f",
   "metadata": {},
   "outputs": [],
   "source": [
    "chain = msg | llm"
   ]
  },
  {
   "cell_type": "code",
   "execution_count": 29,
   "id": "33d4847e",
   "metadata": {},
   "outputs": [],
   "source": [
    "def generate_code(pattern: str, count: int):\n",
    "    print(f\"Generating {count} code examples for the {pattern} pattern...\")\n",
    "    return chain.invoke({\"pattern\": pattern, \"count\": count})\n",
    "\n",
    "def save_code(output, pattern: str, base_path: str, starting_index=1):\n",
    "    json_output = json.loads(output.content)\n",
    "    for i, code in enumerate(json_output):\n",
    "        os.makedirs(f\"{base_path}/{pattern}\", exist_ok=True)\n",
    "        with open(f\"{base_path}/{pattern}/{pattern}_pattern_{starting_index+i}.py\", \"w\") as file:\n",
    "            file.write(code)\n",
    "    \n",
    "    print(f\"Saved {pattern} pattern examples\")"
   ]
  },
  {
   "cell_type": "code",
   "execution_count": 30,
   "id": "9459e1c7",
   "metadata": {},
   "outputs": [],
   "source": [
    "\n",
    "def software_design_patterns(patterns, base_path, pattern_count=10,starting_index=1):\n",
    "    for pattern in patterns:\n",
    "        output = generate_code(pattern, pattern_count)\n",
    "        save_code(output, pattern, base_path,starting_index)\n",
    "\n",
    "def software_design_patterns_threaded(patterns,base_path,pattern_count=10,starting_index=1):\n",
    "    threads = []\n",
    "    for pattern in patterns:\n",
    "        t = threading.Thread(target=lambda p=pattern: save_code(generate_code(p,pattern_count),p,base_path,starting_index))\n",
    "        threads.append(t)\n",
    "        t.start()\n",
    "    for t in threads:\n",
    "        t.join()"
   ]
  },
  {
   "cell_type": "code",
   "execution_count": null,
   "id": "50715e01",
   "metadata": {},
   "outputs": [
    {
     "name": "stdout",
     "output_type": "stream",
     "text": [
      "Generating 2 code examples for the Observer pattern...\n",
      "Saved Observer pattern examples\n"
     ]
    }
   ],
   "source": [
    "patterns = [\"Singleton\", \"Factory\", \"Observer\", \"Decorator\", \"Strategy\"]\n",
    "patterns = [\"Observer\"]\n",
    "base_path = \"/home/hasinthaka/Documents/Projects/AI/AI Pattern Mining/Pattern Validator/reposistories/test\"\n",
    "software_design_patterns_threaded(patterns,base_path,pattern_count=2,starting_index=30)"
   ]
  },
  {
   "cell_type": "code",
   "execution_count": null,
   "id": "e97d7b9a",
   "metadata": {},
   "outputs": [],
   "source": [
    "output = generate_code(\"Singleton\", 1)"
   ]
  },
  {
   "cell_type": "code",
   "execution_count": 6,
   "id": "c273d144",
   "metadata": {},
   "outputs": [],
   "source": [
    "json_output = json.loads(output.content)"
   ]
  },
  {
   "cell_type": "code",
   "execution_count": 7,
   "id": "1f8bf6eb",
   "metadata": {},
   "outputs": [
    {
     "data": {
      "text/plain": [
       "['class ShoppingCartManager:\\n    _instance = None\\n\\n    def __new__(cls):\\n        if cls._instance is None:\\n            cls._instance = super().__new__(cls)\\n            cls._instance.items = {}\\n            print(\"New ShoppingCartManager instance created.\")\\n        else:\\n            print(\"Existing ShoppingCartManager instance returned.\")\\n        return cls._instance\\n\\n    def add_item(self, item_id, quantity):\\n        if not isinstance(item_id, str) or not isinstance(quantity, int) or quantity <= 0:\\n            print(\"Invalid item_id or quantity.\")\\n            return\\n        self.items[item_id] = self.items.get(item_id, 0) + quantity\\n        print(f\"Added {quantity} of \\'{item_id}\\'. Current cart: {self.items}\")\\n\\n    def remove_item(self, item_id, quantity):\\n        if not isinstance(item_id, str) or not isinstance(quantity, int) or quantity <= 0:\\n            print(\"Invalid item_id or quantity.\")\\n            return\\n        if item_id in self.items:\\n            self.items[item_id] -= quantity\\n            if self.items[item_id] <= 0:\\n                del self.items[item_id]\\n            print(f\"Removed {quantity} of \\'{item_id}\\'. Current cart: {self.items}\")\\n        else:\\n            print(f\"Item \\'{item_id}\\' not found in cart.\")\\n\\n    def get_cart_contents(self):\\n        return dict(self.items)\\n\\n    def checkout(self):\\n        if not self.items:\\n            print(\"Cart is empty. Nothing to checkout.\")\\n            return False\\n        print(\"Processing checkout for items:\")\\n        for item, qty in self.items.items():\\n            print(f\"  - {qty} x {item}\")\\n        self.items.clear()\\n        print(\"Checkout complete. Cart cleared.\")\\n        return True\\n\\n\\n# Real-world usage simulation: E-commerce application\\n# A user should have only one active shopping cart instance.\\n\\nprint(\"--- User Session 1: Adding items to cart ---\")\\nuser_cart_session1 = ShoppingCartManager()\\nuser_cart_session1.add_item(\"Laptop Pro X\", 1)\\nuser_cart_session1.add_item(\"Wireless Mouse\", 2)\\n\\nprint(\"\\\\n--- User Session 2 (e.g., another browser tab or page refresh) ---\")\\n# Even if the user navigates or reloads, they should get the same cart instance.\\nuser_cart_session2 = ShoppingCartManager()\\nuser_cart_session2.add_item(\"USB-C Hub\", 1)\\n\\nprint(f\"\\\\nAre both cart sessions referring to the same object? {user_cart_session1 is user_cart_session2}\")\\n\\nprint(\"\\\\n--- Cart contents from user_cart_session1 ---\")\\nprint(user_cart_session1.get_cart_contents())\\n\\nprint(\"\\\\n--- Cart contents from user_cart_session2 (should be identical) ---\")\\nprint(user_cart_session2.get_cart_contents())\\n\\nuser_cart_session1.remove_item(\"Wireless Mouse\", 1)\\nprint(\"\\\\n--- Cart contents after removal from session1 (reflected in session2) ---\")\\nprint(user_cart_session2.get_cart_contents())\\n\\nprint(\"\\\\n--- Proceeding to checkout ---\")\\nuser_cart_session2.checkout()\\n\\nprint(\"\\\\n--- Verifying cart after checkout (should be empty) ---\")\\nprint(user_cart_session1.get_cart_contents())\\n',\n",
       " 'class SingletonMeta(type):\\n    _instances = {}\\n\\n    def __call__(cls, *args, **kwargs):\\n        if cls not in cls._instances:\\n            cls._instances[cls] = super().__call__(*args, **kwargs)\\n        return cls._instances[cls]\\n\\nclass HospitalLogSystem(metaclass=SingletonMeta):\\n    def __init__(self, system_name=\"MainHospitalLog\"):\\n        if not hasattr(self, \\'_initialized\\'):\\n            self.system_name = system_name\\n            self.log_entries = []\\n            print(f\"HospitalLogSystem \\'{self.system_name}\\' initialized.\")\\n            self._initialized = True\\n        else:\\n            print(f\"HospitalLogSystem \\'{self.system_name}\\' already initialized.\")\\n\\n    def log_event(self, department, event_description, severity=\"INFO\"):\\n        if not isinstance(department, str) or not isinstance(event_description, str) or not isinstance(severity, str):\\n            print(\"Invalid log parameters.\")\\n            return\\n        entry = f\"[{self.system_name}][{department}][{severity}] {event_description}\"\\n        self.log_entries.append(entry)\\n        print(f\"Logged: {entry}\")\\n\\n    def get_all_logs(self):\\n        return list(self.log_entries)\\n\\n    def clear_logs(self):\\n        self.log_entries.clear()\\n        print(f\"Logs for \\'{self.system_name}\\' cleared.\")\\n\\n\\n# Real-world usage simulation: Healthcare - Centralized Hospital Logging\\n# All departments in a hospital should log to a single, consistent logging system.\\n\\nprint(\"--- Simulation: Hospital Operations Logging ---\")\\n\\ndef er_department_activity():\\n    # The ER department needs to log events.\\n    log_system_er = HospitalLogSystem(\"St. Jude Central Log\")\\n    log_system_er.log_event(\"ER\", \"Patient admitted with severe trauma.\", \"CRITICAL\")\\n    log_system_er.log_event(\"ER\", \"Emergency surgery initiated for Patient 123.\", \"URGENT\")\\n\\ndef pharmacy_department_activity():\\n    # The Pharmacy department needs to log events.\\n    log_system_pharmacy = HospitalLogSystem(\"St. Jude Central Log\")\\n    log_system_pharmacy.log_event(\"Pharmacy\", \"Medication \\'Morphine\\' dispensed to ER.\", \"INFO\")\\n    log_system_pharmacy.log_event(\"Pharmacy\", \"Inventory update for controlled substances.\", \"AUDIT\")\\n\\ndef lab_department_activity():\\n    # The Lab department needs to log events.\\n    log_system_lab = HospitalLogSystem(\"St. Jude Central Log\")\\n    log_system_lab.log_event(\"Lab\", \"Blood test results for Patient 456 available.\", \"INFO\")\\n\\n# Simulate departments logging events\\ner_department_activity()\\npharmacy_department_activity()\\nlab_department_activity()\\n\\nprint(\"\\\\n--- Retrieving all logs from a central monitoring station ---\")\\n# A central monitoring station retrieves the logs.\\ncentral_monitor = HospitalLogSystem(\"St. Jude Central Log\")\\nprint(f\"Is central_monitor the same object as the one used by ER? {central_monitor is HospitalLogSystem(\\'St. Jude Central Log\\')}\")\\n\\nall_hospital_logs = central_monitor.get_all_logs()\\nfor log in all_hospital_logs:\\n    print(log)\\n\\nprint(\"\\\\n--- Attempting to create another \\'MainHospitalLog\\' instance ---\")\\nanother_instance = HospitalLogSystem(\"AnotherNameForLog\")\\nprint(f\"Are \\'central_monitor\\' and \\'another_instance\\' the same object? {central_monitor is another_instance}\")\\n\\nprint(\"\\\\n--- Logs from \\'another_instance\\' (should be identical) ---\")\\nfor log in another_instance.get_all_logs():\\n    print(log)\\n\\ncentral_monitor.clear_logs()\\nprint(\"\\\\n--- Verifying logs after clearing from one instance (should be empty everywhere) ---\")\\nprint(another_instance.get_all_logs())\\n']"
      ]
     },
     "execution_count": 7,
     "metadata": {},
     "output_type": "execute_result"
    }
   ],
   "source": [
    "json_output"
   ]
  },
  {
   "cell_type": "code",
   "execution_count": null,
   "id": "8468cde5",
   "metadata": {},
   "outputs": [],
   "source": []
  }
 ],
 "metadata": {
  "kernelspec": {
   "display_name": ".venv",
   "language": "python",
   "name": "python3"
  },
  "language_info": {
   "codemirror_mode": {
    "name": "ipython",
    "version": 3
   },
   "file_extension": ".py",
   "mimetype": "text/x-python",
   "name": "python",
   "nbconvert_exporter": "python",
   "pygments_lexer": "ipython3",
   "version": "3.12.3"
  }
 },
 "nbformat": 4,
 "nbformat_minor": 5
}
